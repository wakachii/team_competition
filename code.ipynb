{
 "cells": [
  {
   "cell_type": "code",
   "execution_count": 3,
   "source": [
    "import pandas as pd\n",
    "import numpy as  np\n",
    "import seaborn as sns\n",
    "import matplotlib.pyplot as plt\n",
    "%matplotlib inline\n",
    "\n",
    "import warnings\n",
    "warnings.filterwarnings('ignore')\n",
    "\n",
    "import os\n",
    "for dirname, _, filenames in os.walk('/kaggle/input'):\n",
    "    for filename in filenames:\n",
    "        print(os.path.join(dirname, filename))"
   ],
   "outputs": [],
   "metadata": {}
  },
  {
   "cell_type": "code",
   "execution_count": 5,
   "source": [
    "test = pd.read_csv('test.csv')\n",
    "year1 = pd.read_csv('year1.csv')\n",
    "year2 = pd.read_csv('year2.csv')\n",
    "year3 = pd.read_csv('year2.csv')\n",
    "year4 = pd.read_csv('year2.csv')"
   ],
   "outputs": [],
   "metadata": {}
  },
  {
   "cell_type": "code",
   "execution_count": null,
   "source": [
    "print(test.isnull().sum()[test.isnull().sum()>0].sort_values(ascending=False))\n",
    "print(year1.isnull().sum()[year1.isnull().sum()>0].sort_values(ascending=False))\n",
    "print(year2.isnull().sum()[year2.isnull().sum()>0].sort_values(ascending=False))\n",
    "print(year3.isnull().sum()[year3.isnull().sum()>0].sort_values(ascending=False))\n",
    "print(year4.isnull().sum()[year4.isnull().sum()>0].sort_values(ascending=False))"
   ],
   "outputs": [],
   "metadata": {}
  }
 ],
 "metadata": {
  "kernelspec": {
   "display_name": "Python 3",
   "language": "python",
   "name": "python3"
  },
  "language_info": {
   "codemirror_mode": {
    "name": "ipython",
    "version": 3
   },
   "file_extension": ".py",
   "mimetype": "text/x-python",
   "name": "python",
   "nbconvert_exporter": "python",
   "pygments_lexer": "ipython3",
   "version": "3.8.8"
  }
 },
 "nbformat": 4,
 "nbformat_minor": 5
}