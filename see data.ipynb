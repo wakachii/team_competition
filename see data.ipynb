{
 "cells": [
  {
   "cell_type": "code",
   "execution_count": null,
   "source": [
    "import pandas as pd\n",
    "import numpy as  np\n",
    "import seaborn as sns\n",
    "import matplotlib.pyplot as plt\n",
    "%matplotlib inline\n",
    "\n",
    "from sklearn.preprocessing import StandardScaler\n",
    "from sklearn.metrics import accuracy_score\n",
    "from sklearn.model_selection import train_test_split\n",
    "from sklearn.ensemble import RandomForestClassifier, AdaBoostClassifier, GradientBoostingClassifier\n",
    "from sklearn.neural_network import MLPClassifier\n",
    "from sklearn.linear_model import LogisticRegression\n",
    "from sklearn.model_selection import GridSearchCV\n",
    "\n",
    "\n",
    "import warnings\n",
    "warnings.filterwarnings('ignore')\n",
    "\n",
    "import os\n",
    "for dirname, _, filenames in os.walk('/kaggle/input'):\n",
    "    for filename in filenames:\n",
    "        print(os.path.join(dirname, filename))"
   ],
   "outputs": [],
   "metadata": {}
  },
  {
   "cell_type": "code",
   "execution_count": null,
   "source": [
    "test = pd.read_csv('test.csv')\n",
    "year1 = pd.read_csv('year1.csv')\n",
    "year2 = pd.read_csv('year2.csv')\n",
    "year3 = pd.read_csv('year2.csv')\n",
    "year4 = pd.read_csv('year2.csv')"
   ],
   "outputs": [],
   "metadata": {}
  },
  {
   "cell_type": "code",
   "execution_count": null,
   "source": [
    "year1[\"year\"] = 1\n",
    "year2[\"year\"] = 2\n",
    "year3[\"year\"] = 3\n",
    "year4[\"year\"] = 4\n",
    "test[\"year\"] = 5"
   ],
   "outputs": [],
   "metadata": {}
  },
  {
   "cell_type": "markdown",
   "source": [],
   "metadata": {}
  },
  {
   "cell_type": "markdown",
   "source": [],
   "metadata": {}
  },
  {
   "cell_type": "markdown",
   "source": [
    "mport pylab as pl\n",
    "pl.figure(figsize=(12,5))\n",
    "pl.title(\"Distribution\")\n",
    "ax = sns.distplot(year1[\"X1\"], color = 'r')"
   ],
   "metadata": {}
  },
  {
   "cell_type": "code",
   "execution_count": null,
   "source": [
    "sns.set(style=\"white\")\n",
    "# Compute the correlation matrix\n",
    "corr = all_data.corr()\n",
    "# Set up the matplotlib figure\n",
    "f, ax = plt.subplots(figsize=(11, 11))\n",
    "# Generate a custom diverging colormap\n",
    "cmap = sns.diverging_palette(220, 10, as_cmap=True)\n",
    "# Draw the heatmap with the mask and aspect ratio\n",
    "sns.heatmap(corr, cmap=cmap, vmax=.5, center=0,\n",
    "            square=True, linewidths=.5, cbar_kws={\"shrink\": .5})\n",
    "plt.show()"
   ],
   "outputs": [],
   "metadata": {}
  },
  {
   "cell_type": "code",
   "execution_count": null,
   "source": [
    "all_data = pd.concat([year1,year2,year3,year4])\n",
    "\n",
    "for i in all_data.iloc[:,0:-2]: \n",
    "  all_data[i] = pd.to_numeric(all_data[i],errors='coerce')\n",
    "all_data = all_data.fillna(all_data.mean())\n",
    "\n",
    "for i in test.iloc[:,0:-1]:\n",
    "  test[i] = pd.to_numeric(test[i],errors='coerce')\n",
    "test = test.fillna(test.mean())\n",
    "\n",
    "def remove_outliers(df, q=0.005):\n",
    "    upper = df.quantile(1-q)\n",
    "    lower = df.quantile(q)\n",
    "    mask = (df < upper) & (df > lower)\n",
    "    return mask\n",
    "\n",
    "mask = remove_outliers(all_data)\n",
    "all_data.iloc[:,0:-2] = all_data[mask]\n",
    "mask = remove_outliers(test)\n",
    "test.iloc[:,0:-1] = test[mask]\n",
    "\n",
    "all_data = all_data.fillna(all_data.mean())\n",
    "test = test.fillna(test.mean())\n",
    "\n",
    "X = all_data.iloc[:, 0:-2]\n",
    "test_X = test.iloc[:,0:-1]\n",
    "y = all_data.loc[:, 'TARGET']\n",
    "\n",
    "scaler = StandardScaler()\n",
    "scaler.fit_transform(X)\n",
    "\n",
    "X_train, X_test, y_train, y_test = train_test_split(X, y, random_state=0)\n",
    "\n",
    "from sklearn.decomposition import PCA\n",
    "from sklearn.cluster import KMeans\n",
    "\n",
    "pca = PCA(n_components = 20)\n",
    "X_pca = pca.fit_transform(all_data)\n",
    "\n",
    "distortions = []\n",
    "\n",
    "for k  in range(1,20):              \n",
    "    km = KMeans(n_clusters=k,       \n",
    "                init='k-means++',   \n",
    "                n_init=10,          \n",
    "                max_iter=300,       \n",
    "                random_state=0)     \n",
    "    km.fit(X_pca)           \n",
    "    distortions.append(km.inertia_) \n",
    "\n",
    "# 結果を散布図に出力\n",
    "plt.plot(range(1,20), distortions,marker='o') \n",
    "plt.xticks([i for i in range(1, 20)])         \n",
    "plt.xlabel('Number of clusters')\n",
    "plt.ylabel('Distortion')\n",
    "plt.show()"
   ],
   "outputs": [],
   "metadata": {}
  }
 ],
 "metadata": {
  "language_info": {
   "name": "python"
  }
 },
 "nbformat": 4,
 "nbformat_minor": 5
}